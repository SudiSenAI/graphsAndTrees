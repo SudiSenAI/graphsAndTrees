{
  "nbformat": 4,
  "nbformat_minor": 0,
  "metadata": {
    "colab": {
      "provenance": []
    },
    "kernelspec": {
      "name": "python3",
      "display_name": "Python 3"
    },
    "language_info": {
      "name": "python"
    }
  },
  "cells": [
    {
      "cell_type": "markdown",
      "source": [
        "Islands of 1 from adj_matrix"
      ],
      "metadata": {
        "id": "p-qWWNbDUR_H"
      }
    },
    {
      "cell_type": "code",
      "source": [
        "class Solution:\n",
        "    def numIslands(self, grid: List[List[str]]) -> int:\n",
        "        if not grid:\n",
        "            return 0\n",
        "\n",
        "        rows, cols = len(grid), len()\n",
        "        visit = set()\n",
        "        islands = 0\n",
        "  '''    def bfs(r, c):\n",
        "            queue = [(r,c)]\n",
        "            while queue:\n",
        "                row, col = queue.pop(0) #pop() => dfs, but iterative\n",
        "                directions = [[1,0], [-1, 0], [0,1], [0,-1]]\n",
        "                #r, c = row + dr, col +dc\n",
        "                for dr, dc in directions:\n",
        "                    if ((r+dr) in range(rows) and (c+dc) in range(cols) and\n",
        "                        grid[r+dr][c+dc] == '1' and\n",
        "                        (r+dr, c+dc) not in visit):\n",
        "                        queue.append(r+dr, c+dc)\n",
        "                        visit.add((r+dr,c+dc)) '''\n",
        "\n",
        "        for r in range(rows):\n",
        "            for c in range(cols):\n",
        "                if grid[r][c] == '1' and (r, c) not in visit:\n",
        "                    bfs(r,c)\n",
        "                    islands += 1\n",
        "        return islands"
      ],
      "metadata": {
        "id": "yfMK2tL7URpI"
      },
      "execution_count": null,
      "outputs": []
    },
    {
      "cell_type": "markdown",
      "source": [
        "\n",
        "\n",
        "# > ALL GRAPHS\n",
        "\n"
      ],
      "metadata": {
        "id": "VxlwANAfULwv"
      }
    },
    {
      "cell_type": "code",
      "source": [
        "from typing import List, Tuple\n",
        "\n",
        "class Graph1:\n",
        "    def __init__(self,input: List[Tuple[str]]) ->List[str]:\n",
        "        # self.edges = edges\n",
        "        self.visited = set()\n",
        "        self.relation_map = {}\n",
        "        for prerequisite, course in input:\n",
        "            if not prerequisite in self.relation_map.keys():\n",
        "                self.relation_map[prerequisite] = [course]\n",
        "            else:\n",
        "                self.relation_map[prerequisite].append(course)\n",
        "        self.course_list = list(self.relation_map.keys())\n",
        "        # self.root = 0\n",
        "\n",
        "    def depth_first_search(self, curr= \"Mumbai\", prev = -1, memory = []):\n",
        "        if curr not in self.visited:\n",
        "              # return False\n",
        "          self.visited.add(curr)\n",
        "          memory.append(curr)\n",
        "          for neighbor in self.relation_map[curr]:\n",
        "              if neighbor not in self.course_list:\n",
        "                  self.relation_map[neighbor] = []\n",
        "              if neighbor == prev:\n",
        "                  continue\n",
        "              if not self.depth_first_search(neighbor, curr, memory):\n",
        "                  break\n",
        "              self.depth_first_search(neighbor, curr, memory)\n",
        "\n",
        "        return memory\n",
        "\n",
        "    def breadth_first_search(self, root=\"Mumbai\", prev = -1, memory1 =[]):\n",
        "        queue = [root]\n",
        "        while queue:\n",
        "            curr = queue.pop(0)\n",
        "            if curr not in self.visited:\n",
        "                memory1.append(curr)\n",
        "                self.visited.add(curr)\n",
        "                for neighbor in self.relation_map[curr]:\n",
        "                    if neighbor not in self.course_list:\n",
        "                        self.relation_map[neighbor] = []\n",
        "                    # if neighbor == prev:\n",
        "                    #     continue\n",
        "                    queue.append(neighbor)\n",
        "        return memory1\n",
        "\n",
        "\n",
        "\n",
        "\n",
        "class Node:\n",
        "    def __init__(self, name):\n",
        "        self.name = name\n",
        "        self.children = []\n",
        "\n",
        "    def add_child(self, name):\n",
        "        self.children.append(Node(name))\n",
        "        return self\n",
        "\n",
        "    def breadth_first_search(self, array): #O(v+e), O(v)\n",
        "        queue = [self]\n",
        "        while len(queue) > 0:\n",
        "            current = queue.pop(0)\n",
        "            array.append(current.name)\n",
        "            for child in current.children:\n",
        "                queue.append(child)\n",
        "        return array\n",
        "\n",
        "    def depth_first_search(self, array):\n",
        "        array.append(' '+self.name)\n",
        "        for child in self.children:\n",
        "            child.depth_first_search(array)\n",
        "        return array\n",
        "\n",
        "routes = [\n",
        "        ('Mumbai', 'Paris'),\n",
        "        ('Mumbai', 'Dubai'),\n",
        "        ('Paris', 'New York'),\n",
        "        ['Paris', 'Dubai'],\n",
        "        ('Dubai', 'New York'),\n",
        "        ('New York', 'Toronto'),\n",
        "        ('Helsinki', 'Toronto'),\n",
        "        ('Paris', 'Toronto'),\n",
        "        ('New York','Helsinki'),\n",
        "        ('Mumbai', 'Berlin'),\n",
        "        ('Dubai', 'Amsterdam')\n",
        "    ]\n",
        "g = Graph1(routes)\n",
        "# print(g.depth_first_search())\n",
        "print(g.breadth_first_search())\n",
        "\n"
      ],
      "metadata": {
        "colab": {
          "base_uri": "https://localhost:8080/"
        },
        "id": "7bKibNBP73yd",
        "outputId": "bd2fe7ef-637e-4c4a-d35c-97ba4e04a646"
      },
      "execution_count": null,
      "outputs": [
        {
          "output_type": "stream",
          "name": "stdout",
          "text": [
            "['Mumbai', 'Paris', 'Dubai', 'Berlin', 'New York', 'Toronto', 'Amsterdam', 'Helsinki']\n"
          ]
        }
      ]
    },
    {
      "cell_type": "markdown",
      "source": [
        "Finding shortest path, and min stops"
      ],
      "metadata": {
        "id": "i2rlI18cXbpR"
      }
    },
    {
      "cell_type": "code",
      "source": [
        "class Directed_Graph:\n",
        "    def __init__(self, edges):\n",
        "        self.edges = edges\n",
        "        self.adjacency_dict = {}  # Origin1: ['Destination1', 'Destination2', 'Destination3']]\n",
        "        for start, end in self.edges:\n",
        "            if start not in self.adjacency_dict:\n",
        "                self.adjacency_dict[start] = [end]\n",
        "            else:\n",
        "                self.adjacency_dict[start].append(end)\n",
        "\n",
        "    def get_nodes(self):\n",
        "        # self.adjacency_dict = {}\n",
        "        # for origin, destination in self.edges:\n",
        "        #     if not origin in self.adjacency_dict.keys():\n",
        "        #         self.adjacency_dict[origin] = [destination]\n",
        "        #     else:\n",
        "        #         self.adjacency_dict[origin].append(destination)\n",
        "        return list(self.adjacency_dict.keys())\n",
        "\n",
        "    def get_paths(self, start, end, path=[]): # we need to pass path as an argument\n",
        "        path = path + [start] # since we are going to make a recursive function\n",
        "        if start == end:      # when the recursive function is called on start, it will return all the paths for each children node,\n",
        "                              # until a node is reached which has no children node / is the end node.\n",
        "                              # Then we prepend the parent node to it. Path is\n",
        "            return [path]\n",
        "\n",
        "        if start not in self.adjacency_dict.keys():\n",
        "            return []\n",
        "\n",
        "        paths = []\n",
        "        # print(self.adjacency_dict)\n",
        "        for destination in self.adjacency_dict[start]:  # first I'll go to origin and explore all the routes.\n",
        "        # after making sure if the path has been visited or not.\n",
        "        # then I'll go through each destination list element, and find all the routes for each of them.\n",
        "            # print(self.adjacency_dict[start], \"outside call\")\n",
        "            if destination not in path:\n",
        "                new_paths= self.get_paths(destination, end, path)\n",
        "                # print(\"recursion invoked\")\n",
        "                for p in new_paths:\n",
        "                    # print(p, new_paths, \"inside\")\n",
        "                    paths.append(p)\n",
        "        return paths\n",
        "\n",
        "\n",
        "    def get_min_stops(self, start, end):\n",
        "\n",
        "        paths = self.get_paths(start, end)\n",
        "        shortest_length = len(self.adjacency_dict.keys())\n",
        "        shortest_path = []\n",
        "        for path in paths:\n",
        "            if len(path) <= shortest_length:\n",
        "                shortest_length = len(path)\n",
        "                shortest_path = path\n",
        "        return shortest_path, self.adjacency_dict.keys()\n"
      ],
      "metadata": {
        "id": "-4UznKLMXUJ2"
      },
      "execution_count": null,
      "outputs": []
    },
    {
      "cell_type": "markdown",
      "source": [
        "Direct implementation of Adj_list and Adj_matrix"
      ],
      "metadata": {
        "id": "JMTR7zgNXU0B"
      }
    },
    {
      "cell_type": "code",
      "execution_count": null,
      "metadata": {
        "colab": {
          "base_uri": "https://localhost:8080/"
        },
        "id": "J2eLr3yalomJ",
        "outputId": "8709b258-e6b5-4794-bbc4-df5edeecfd2e"
      },
      "outputs": [
        {
          "output_type": "stream",
          "name": "stdout",
          "text": [
            "{'A': ['B', 'B', 'C'], 'B': [], 'C': ['D'], 'D': []}\n",
            "{'A': ['B', 'B', 'C'], 'B': ['A', 'A'], 'C': ['A', 'D'], 'D': ['C']}\n",
            "[[0, 2, 1, 0], [2, 0, 0, 0], [1, 0, 0, 1], [0, 0, 1, 0]]\n",
            "[[0, 2, 1, 0], [0, 0, 0, 0], [0, 0, 0, 1], [0, 0, 0, 0]]\n"
          ]
        }
      ],
      "source": [
        "from collections import namedtuple\n",
        "\n",
        "Graph = namedtuple(\"Graph\", [\"nodes\", \"edges\"])\n",
        "\n",
        "nodes = [\"A\", \"B\", \"C\", \"D\"]\n",
        "edges = [('A', 'B'), ('A', 'B'), ('A', 'C'), ('C', 'D')]\n",
        "\n",
        "G = Graph(nodes, edges)\n",
        "# Adjacency List\n",
        "\n",
        "def adjacency_dict(graph, is_directed=False):\n",
        "    \"\"\"\n",
        "    {'Node1': [Node2, Node3],\n",
        "    'Node2': [Node3, Node7], ...}\n",
        "    \"\"\"\n",
        "    adj = {node: [] for node in graph.nodes}\n",
        "    # for edge in graph.edges:\n",
        "    #     node1, node2 = edge[0], edge[1]\n",
        "    for node1, node2 in graph.edges:\n",
        "        adj[node1].append(node2)\n",
        "        if not is_directed:\n",
        "            adj[node2].append(node1)\n",
        "    return adj\n",
        "\n",
        "def adjacency_matrix(graph, is_directed=False):\n",
        "    \"\"\"\n",
        "        A   B   C   D\n",
        "    A[  0   2   1   0\n",
        "    B   2   0   0   0\n",
        "    C   1   0   0   1\n",
        "    D   0   0   1   0 ]\n",
        "    \"\"\"\n",
        "    nodes = range(len(graph.nodes))\n",
        "    edges = [(graph.nodes.index(edge[0]), graph.nodes.index(edge[1])) for edge in graph.edges]\n",
        "    graph = Graph(nodes, edges) #new graph object with modified nodes and edges\n",
        "    adj = [[0 for node in graph.nodes] for node in graph.nodes]\n",
        "    for start, end in graph.edges:\n",
        "        adj[start][end] += 1\n",
        "        if not is_directed:\n",
        "            adj[end][start] += 1\n",
        "    print(adj)\n",
        "\n",
        "print(adjacency_dict(G, True))\n",
        "print(adjacency_dict(G))\n",
        "adjacency_matrix(G, 0)\n",
        "adjacency_matrix(G, 1)\n"
      ]
    },
    {
      "cell_type": "markdown",
      "source": [
        "\n",
        "            Paris\n",
        "          /   i    *\n",
        "         /    i       *\n",
        "        /     i       New York\n",
        "Mumbai        i      /\n",
        "        ----->Dubai/\n",
        "\n",
        "\n",
        "\n"
      ],
      "metadata": {
        "id": "7lLzn9nHMb5L"
      }
    },
    {
      "cell_type": "code",
      "source": [
        "class Directed_Graph:\n",
        "    def __init__(self, edges):\n",
        "        self.edges = edges\n",
        "        self.adjacency_dict = {}  # Origin1: ['Destination1', 'Destination2', 'Destination3']]\n",
        "        for start, end in self.edges:\n",
        "            if start not in self.adjacency_dict:\n",
        "                self.adjacency_dict[start] = [end]\n",
        "            else:\n",
        "                self.adjacency_dict[start].append(end)\n",
        "\n",
        "    def get_nodes(self):\n",
        "        # self.adjacency_dict = {}\n",
        "        # for origin, destination in self.edges:\n",
        "        #     if not origin in self.adjacency_dict.keys():\n",
        "        #         self.adjacency_dict[origin] = [destination]\n",
        "        #     else:\n",
        "        #         self.adjacency_dict[origin].append(destination)\n",
        "        return list(self.adjacency_dict.keys())\n",
        "\n",
        "    def get_paths(self, start, end, path=[]): # we need to pass path as an argument\n",
        "        path = path + [start] # since we are going to make a recursive function\n",
        "        if start == end:      # when the recursive function is called on start, it will return all the paths for each children node,\n",
        "                              # until a node is reached which has no children node / is the end node.\n",
        "                              # Then we prepend the parent node to it. Path is\n",
        "            return [path]\n",
        "\n",
        "        if start not in self.adjacency_dict.keys():\n",
        "            return []\n",
        "\n",
        "        paths = []\n",
        "        # print(self.adjacency_dict)\n",
        "        for destination in self.adjacency_dict[start]:  # first I'll go to origin and explore all the routes.\n",
        "        # after making sure if the path has been visited or not.\n",
        "        # then I'll go through each destination list element, and find all the routes for each of them.\n",
        "            # print(self.adjacency_dict[start], \"outside call\")\n",
        "            if destination not in path:\n",
        "                new_paths= self.get_paths(destination, end, path)\n",
        "                # print(\"recursion invoked\")\n",
        "                for p in new_paths:\n",
        "                    # print(p, new_paths, \"inside\")\n",
        "                    paths.append(p)\n",
        "        return paths\n",
        "\n",
        "\n",
        "    def get_min_stops(self, start, end):\n",
        "\n",
        "        paths = self.get_paths(start, end)\n",
        "        shortest_length = len(self.adjacency_dict.keys())\n",
        "        shortest_path = []\n",
        "        for path in paths:\n",
        "            if len(path) <= shortest_length:\n",
        "                shortest_length = len(path)\n",
        "                shortest_path = path\n",
        "        return shortest_path, self.adjacency_dict.keys()\n",
        "\n",
        "\n",
        "if  __name__ == '__main__':\n",
        "    routes = [\n",
        "            ['Mumbai', 'Paris'],\n",
        "            ['Mumbai', 'Dubai'],\n",
        "            ['Paris', 'New York'],\n",
        "            ['Paris', 'Dubai'],\n",
        "            ('Dubai', 'New York'),\n",
        "            ('New York', 'Toronto'),\n",
        "            ('Helsinki', 'Toronto'),\n",
        "            ('Paris', 'Toronto'),\n",
        "            ('New York','Helsinki')\n",
        "        ]\n",
        "\n",
        "route_graph = Directed_Graph(routes)\n",
        "start = \"Mumbai\"\n",
        "end = \"Toronto\"\n",
        "\n",
        "print(route_graph.get_paths(start, end), \"ANSWER\")\n",
        "nodes = route_graph.get_nodes()\n",
        "print(nodes)\n",
        "print(route_graph.get_min_stops(start, end), \"ANSWER2\")"
      ],
      "metadata": {
        "id": "0tbieGUCf1ef",
        "colab": {
          "base_uri": "https://localhost:8080/"
        },
        "outputId": "1076c47f-cd3c-4848-8647-6b54fcc46ea3"
      },
      "execution_count": null,
      "outputs": [
        {
          "output_type": "stream",
          "name": "stdout",
          "text": [
            "[['Mumbai', 'Paris', 'New York', 'Toronto'], ['Mumbai', 'Paris', 'New York', 'Helsinki', 'Toronto'], ['Mumbai', 'Paris', 'Dubai', 'New York', 'Toronto'], ['Mumbai', 'Paris', 'Dubai', 'New York', 'Helsinki', 'Toronto'], ['Mumbai', 'Paris', 'Toronto'], ['Mumbai', 'Dubai', 'New York', 'Toronto'], ['Mumbai', 'Dubai', 'New York', 'Helsinki', 'Toronto']] ANSWER\n",
            "['Mumbai', 'Paris', 'Dubai', 'New York', 'Helsinki']\n",
            "(['Mumbai', 'Paris', 'Toronto'], dict_keys(['Mumbai', 'Paris', 'Dubai', 'New York', 'Helsinki'])) ANSWER2\n"
          ]
        }
      ]
    },
    {
      "cell_type": "code",
      "source": [],
      "metadata": {
        "id": "wTbXcbYD785t"
      },
      "execution_count": null,
      "outputs": []
    },
    {
      "cell_type": "markdown",
      "source": [
        "Amazon Question"
      ],
      "metadata": {
        "id": "Q4gj9Swj7-Ua"
      }
    },
    {
      "cell_type": "code",
      "source": [
        "def num_of_subarrays(w, k):\n",
        "\n",
        "    n = len(w)\n",
        "    c = 0\n",
        "    for i in range(n):\n",
        "        for j in range(i, n):\n",
        "            print(i, j, 'openloop')\n",
        "            if i == j:\n",
        "                print('i=j')\n",
        "                c += 1\n",
        "                print(i, j, c)\n",
        "            else:\n",
        "                print('i!=j', 'i=', i ,'j=', j)\n",
        "                mx = w[i]\n",
        "                mn = w[i]\n",
        "                print(mn, mx, 'mn and mx')\n",
        "                for p in range(i, j + 1):\n",
        "                    mx = max(mx, w[p])\n",
        "                    mn = min(mn, w[p])\n",
        "                    print(mn, mx, w[p], '<-wp', p)\n",
        "                    d2 = mx - mn\n",
        "                    if d2 <= k:\n",
        "                        c += 1\n",
        "                        print(i, j, c)\n",
        "                        print('---end---')\n",
        "\n",
        "    return c-1\n",
        "\n",
        "# print(num_of_subarrays([1,5,4], 3))"
      ],
      "metadata": {
        "id": "HohbaChRIzFd"
      },
      "execution_count": null,
      "outputs": []
    },
    {
      "cell_type": "markdown",
      "source": [
        "So these are the two approaches, and neither of them seem sound, for this obstacle, that I can't seem to get past. Are you following\n",
        "\n",
        "If we can't use a binary search tree, we could just sort the array, but if we sort the array, then the solution becomes trivial which means we've trivially solved in a nlogn time solution. I think there should be linear time solution to this problem as well, which would be a little bit more \"clever\". Am I completely off-track here, or is what I'm saying logically sound"
      ],
      "metadata": {
        "id": "FOfgmUQhKysj"
      }
    },
    {
      "cell_type": "code",
      "source": [
        "class Graph:\n",
        "    def __init__(self,vertices=[],edges=[]):\n",
        "        self.edges = edges\n",
        "        self.adjacency_dict = {}\n",
        "        for prerequisite, course in edges:\n",
        "            if not prerequisite in adjacency_dict.keys():\n",
        "                adjacency_dict[prerequisite] = [course]\n",
        "            else:\n",
        "                adjacency_dict[prerequisite].append(course)\n",
        "        self.courses = self.adjacency_dict.keys()\n",
        "        # self.children = self.adjacency_dict[vertices]\n",
        "        for node in vertices:\n",
        "            pass\n",
        "\n",
        "    def get_possible_courses(self, prerequisite, course, path=[]):\n",
        "        if start not in self.adjacency_dict.keys():\n",
        "            return []\n",
        "\n",
        "        paths = []\n",
        "        for destination in self.adjacency_dict[start]:\n",
        "            if destination not in path:\n",
        "                new_paths= self.get_paths(destination, end, path)\n",
        "                for p in new_paths:\n",
        "                    paths.append(p)\n",
        "        return paths\n",
        "\n",
        "    def get_min_stops(self, start, end):\n",
        "\n",
        "        paths = self.get_paths(start, end)\n",
        "        shortest_length = len(self.adjacency_dict.keys())\n",
        "        shortest_path = []\n",
        "        for path in paths:\n",
        "            if len(path) <= shortest_length:\n",
        "                shortest_length = len(path)\n",
        "                shortest_path = path\n",
        "        return shortest_path, self.adjacency_dict.keys()\n",
        "\n",
        "\n",
        "subjects = [[0,1],[1,2],[3,4],[2,3]]\n",
        "\n",
        "# G = Graph(subjects)\n",
        "# G.depth_first_search()\n",
        "\n",
        "class Graph1:\n",
        "    def __init__(self,input: List[Tuple[str]]) -> List[str]:\n",
        "        # self.edges = edges\n",
        "        self.visited = set()\n",
        "        self.relation_map = {}\n",
        "        for prerequisite, course in input:\n",
        "            if not prerequisite in self.relation_map.keys():\n",
        "                self.relation_map[prerequisite] = [course]\n",
        "            else:\n",
        "                self.relation_map[prerequisite].append(course)\n",
        "        self.course_list = list(self.relation_map.keys())\n",
        "        # self.root = 0\n",
        "\n",
        "    def depth_first_search(self, curr= \"Mumbai\", prev = -1, memory = []):\n",
        "        if curr not in self.visited:\n",
        "              # return False\n",
        "          self.visited.add(curr)\n",
        "          memory.append(curr)\n",
        "          for neighbor in self.relation_map[curr]:\n",
        "              if neighbor not in self.course_list:\n",
        "                  self.relation_map[neighbor] = []\n",
        "              if neighbor == prev:\n",
        "                  continue\n",
        "              if not self.depth_first_search(neighbor, curr, memory):\n",
        "                  break\n",
        "              self.depth_first_search(neighbor, curr, memory)\n",
        "\n",
        "        return memory\n",
        "\n",
        "subjects = [[0,1],[1,2],[0,5],[2,4], [0,3], [5,6]]\n",
        "routes = [\n",
        "        ('Mumbai', 'Paris'),\n",
        "        ('Mumbai', 'Dubai'),\n",
        "        ('Paris', 'New York'),\n",
        "        ['Paris', 'Dubai'],\n",
        "        ('Dubai', 'New York'),\n",
        "        ('New York', 'Toronto'),\n",
        "        ('Helsinki', 'Toronto'),\n",
        "        ('Paris', 'Toronto'),\n",
        "        ('New York','Helsinki'),\n",
        "        ('Mumbai', 'Berlin'),\n",
        "        ('Dubai', 'Amsterdam')\n",
        "    ]\n",
        "\n",
        "g = Graph1(routes)\n",
        "print(g.depth_first_search())\n",
        "\n",
        "\n",
        "\n",
        "class Node:\n",
        "    def __init__(self, name):\n",
        "        self.name = name\n",
        "        self.children = []\n",
        "\n",
        "    def add_child(self, name):\n",
        "        self.children.append(Node(name))\n",
        "        return self\n",
        "\n",
        "    def depth_first_search(self, array):\n",
        "        array.append(' '+self.name)\n",
        "        for child in self.children:\n",
        "            child.depth_first_search(array)\n",
        "        return array\n",
        "\n",
        "    def breadth_first_search(self, array): #O(v+e), O(v)\n",
        "        queue = [self]\n",
        "        while len(queue) > 0:\n",
        "            current = queue.pop(0)\n",
        "            array.append(current.name)\n",
        "            for child in current.children:\n",
        "                queue.append(child)\n",
        "        return array\n",
        "\n",
        "\n"
      ],
      "metadata": {
        "id": "3TnslzesK0zT",
        "colab": {
          "base_uri": "https://localhost:8080/"
        },
        "outputId": "2d82fc60-5b68-4500-8c87-4f21f384b212"
      },
      "execution_count": null,
      "outputs": [
        {
          "output_type": "stream",
          "name": "stdout",
          "text": [
            "['Mumbai', 'Paris', 'New York', 'Toronto', 'Helsinki', 'Dubai', 'Amsterdam', 'Berlin']\n"
          ]
        }
      ]
    },
    {
      "cell_type": "code",
      "source": [
        "class Graph1:\n",
        "    def __init__(self,input=[]):\n",
        "        self.edges = input\n",
        "        self.visited = set()\n",
        "        self.relation_map = {}\n",
        "        for prerequisite, course in input:\n",
        "            if not prerequisite in self.relation_map.keys():\n",
        "                self.relation_map[prerequisite] = [course]\n",
        "            else:\n",
        "                self.relation_map[prerequisite].append(course)\n",
        "        self.course_list = list(self.relation_map.keys())\n",
        "        # self.root = 0\n",
        "\n",
        "    def depth_first_search(self, curr= \"Mumbai\", prev = -1, memory = []):\n",
        "        if curr not in self.visited:\n",
        "            return False\n",
        "        memory.append(curr)\n",
        "        for neighbor in self.relation_map[curr]:\n",
        "            if neighbor not in self.course_list:\n",
        "                self.relation_map[neighbor] = []\n",
        "            if neighbor == prev:\n",
        "                continue\n",
        "            if not self.depth_first_search(neighbor, curr, memory):\n",
        "                break\n",
        "            self.depth_first_search(neighbor, curr, memory)\n",
        "        return memory\n",
        "\n",
        "subjects = [[0,1],[1,2],[0,5],[2,4], [0,3], [5,6]]\n",
        "routes = [['Mumbai', 'Paris'],\n",
        "        ['Mumbai', 'Dubai'],\n",
        "        ['Paris', 'New York'],\n",
        "        ['Paris', 'Dubai'],\n",
        "        ('Dubai', 'New York'),\n",
        "        ('New York', 'Toronto'),\n",
        "        ('Helsinki', 'Toronto'),\n",
        "        ('Paris', 'Toronto'),\n",
        "        ('New York','Helsinki')\n",
        "    ]\n",
        "\n",
        "g = Graph(routes)\n",
        "print(g.depth_first_search())"
      ],
      "metadata": {
        "colab": {
          "base_uri": "https://localhost:8080/",
          "height": 200
        },
        "id": "Hnlexi5j_MgX",
        "outputId": "149c9c9d-c953-4873-c263-893e8c06c56f"
      },
      "execution_count": null,
      "outputs": [
        {
          "output_type": "error",
          "ename": "AttributeError",
          "evalue": "ignored",
          "traceback": [
            "\u001b[0;31m---------------------------------------------------------------------------\u001b[0m",
            "\u001b[0;31mAttributeError\u001b[0m                            Traceback (most recent call last)",
            "\u001b[0;32m<ipython-input-5-4208206f2c3c>\u001b[0m in \u001b[0;36m<module>\u001b[0;34m()\u001b[0m\n\u001b[1;32m     39\u001b[0m \u001b[0;34m\u001b[0m\u001b[0m\n\u001b[1;32m     40\u001b[0m \u001b[0mg\u001b[0m \u001b[0;34m=\u001b[0m \u001b[0mGraph\u001b[0m\u001b[0;34m(\u001b[0m\u001b[0mroutes\u001b[0m\u001b[0;34m)\u001b[0m\u001b[0;34m\u001b[0m\u001b[0;34m\u001b[0m\u001b[0m\n\u001b[0;32m---> 41\u001b[0;31m \u001b[0mprint\u001b[0m\u001b[0;34m(\u001b[0m\u001b[0mg\u001b[0m\u001b[0;34m.\u001b[0m\u001b[0mdepth_first_search\u001b[0m\u001b[0;34m(\u001b[0m\u001b[0;34m)\u001b[0m\u001b[0;34m)\u001b[0m\u001b[0;34m\u001b[0m\u001b[0;34m\u001b[0m\u001b[0m\n\u001b[0m",
            "\u001b[0;31mAttributeError\u001b[0m: 'Graph' object has no attribute 'depth_first_search'"
          ]
        }
      ]
    },
    {
      "cell_type": "markdown",
      "source": [
        "TRIES for words ->  O(k) where k is the length of the string to be searched."
      ],
      "metadata": {
        "id": "nWyFUezGyUKC"
      }
    },
    {
      "cell_type": "code",
      "source": [
        "class TrieNode:\n",
        "    def __init__(self):\n",
        "        self.endOfWord = False\n",
        "        self.children = {}\t\t#{“a”: {“p”: {“p”: {“l”: {“e: }}}}, \"b\": {\"a\": {{{{{...}}}}}}]}\n",
        "\n",
        "class Trie:\n",
        "    def __init__(self):\n",
        "        self.root = TrieNode()\n",
        "        # for char in word:\n",
        "        #     if char not in curr.children:\n",
        "        #         curr.children[char] = TrieNode() \t#create new child node\n",
        "        #         print(curr.children)\n",
        "        #     #if child node already exists, pointer to next node\n",
        "        #     curr = curr.children[char]\n",
        "        #     print(curr.children)\n",
        "        # #now that all chars have been inserted as TrieNodes, ptr is at last node\n",
        "\n",
        "    def add_word(self, word):\n",
        "      ptr1 = self.root\n",
        "      for char in word:\n",
        "        if char not in ptr1.children:\n",
        "          ptr1.children[char] = TrieNode()\n",
        "        ptr1 = ptr1.children[char]\n",
        "      ptr1.endOfWord =True\n",
        "\n",
        "\n",
        "    def search_word(self, word):\n",
        "        curr = self.root  #initializing pointer to point at root at the begining\n",
        "        for char in word:\n",
        "            if not char in curr.children:\n",
        "                print(curr)\n",
        "                return False\n",
        "            curr = curr.children[char]\n",
        "            print(curr.children)\n",
        "        return curr.endOfWord\n",
        "\n",
        "    def search_prefix(self, prefix):\n",
        "        curr = self.root  #initializing pointer to point at root at the begining\n",
        "        for char in prefix:\n",
        "            if not char in curr.children:\n",
        "                return False\n",
        "            curr = curr.children[char]\n",
        "        return True\n",
        "\n",
        "t = Trie()\n",
        "t.add_word(\"Apple\")\n",
        "t.add_word(\"Apple Juice\")\n",
        "t.search_word(\"Ape\")\n",
        "t.add_word(\"Banana\")\n",
        "\n"
      ],
      "metadata": {
        "colab": {
          "base_uri": "https://localhost:8080/"
        },
        "id": "rywLnkUv9InJ",
        "outputId": "26f0000e-a900-4149-f4c6-d52557a23803"
      },
      "execution_count": null,
      "outputs": [
        {
          "output_type": "stream",
          "name": "stdout",
          "text": [
            "{'p': <__main__.TrieNode object at 0x7f784f24e5d0>}\n",
            "{'p': <__main__.TrieNode object at 0x7f784f24ead0>}\n",
            "<__main__.TrieNode object at 0x7f784f24e5d0>\n"
          ]
        }
      ]
    },
    {
      "cell_type": "markdown",
      "source": [
        "One or two steps"
      ],
      "metadata": {
        "id": "I8qqEJE945I1"
      }
    },
    {
      "cell_type": "code",
      "source": [
        "class Steps:\n",
        "    def climbStairs(self, num: int) -> int:\n",
        "        one, two = 1, 1\n",
        "\n",
        "        for i in range(num -1):\n",
        "            temp = one\n",
        "            one = one + two\n",
        "            two = temp\n",
        "\n"
      ],
      "metadata": {
        "id": "6ra7XiHmACnk"
      },
      "execution_count": null,
      "outputs": []
    },
    {
      "cell_type": "markdown",
      "source": [
        "# BST\n",
        "Leftmost (Smallest) value of the right subtree and replace the root.\n",
        "\n",
        "TIme = O(logN), average case for insertion, searching and deletion"
      ],
      "metadata": {
        "id": "RAzSztWDx_hd"
      }
    },
    {
      "cell_type": "code",
      "source": [
        "\n",
        "class BST:\n",
        "    def __init__(self, value):\n",
        "        self.value = value\n",
        "        self.left = None\n",
        "        self.right = None\n",
        "\n",
        "    def insert(self, value):\n",
        "        # Write your code here.\n",
        "        curr = self\n",
        "        while True:\n",
        "            if value < curr.value:\n",
        "                if curr.left is None:\n",
        "                    curr.left = BST(value)\n",
        "                    break\n",
        "                curr = curr.left\n",
        "            else:\n",
        "                if curr.right is None:\n",
        "                    curr.right = BST(value)\n",
        "                    break\n",
        "                curr = curr.right\n",
        "        return self\n",
        "\n",
        "    def contains(self, value):\n",
        "        # Write your code here.\n",
        "        curr = self\n",
        "        while curr is not None:\n",
        "            if value < curr.value:\n",
        "                curr = curr.left\n",
        "            elif value > curr.value:\n",
        "                curr = curr.right\n",
        "            else:\n",
        "                return True\n",
        "        return False\n",
        "\n",
        "    def remove(self, value):\n",
        "        # Write your code here.\n",
        "        # Long ass method\n",
        "        return self\n",
        "\n",
        "def inOrderTraverse(tree, array):\n",
        "    \"\"\"Sorted List\"\"\"\n",
        "    if tree is not None:\n",
        "        inOrderTraverse(tree.left, array)\n",
        "        array.append(tree.value)\n",
        "        inOrderTraverse(tree.right, array)\n",
        "    return array\n",
        "\n",
        "def preOrderTraverse(tree, array):\n",
        "    if tree is not None:\n",
        "        array.append(tree.value)\n",
        "        preOrderTraverse(tree.left, array)\n",
        "        preOrderTraverse(tree.right, array)\n",
        "    return array\n",
        "\n",
        "def postOrderTraverse(tree, array):\n",
        "    if tree is not None:\n",
        "\n",
        "        postOrderTraverse(tree.left, array)\n",
        "        postOrderTraverse(tree.right, array)\n",
        "        array.append(tree.value)\n",
        "    return array"
      ],
      "metadata": {
        "id": "cEJ-37u5x_MY"
      },
      "execution_count": null,
      "outputs": []
    },
    {
      "cell_type": "code",
      "source": [
        "def decode(message_file):\n",
        "    # Initialize an empty list to store pyramid numbers\n",
        "    pyramid_lines = []\n",
        "\n",
        "    # Read the input file and extract pyramid numbers\n",
        "    with open(message_file, 'r') as file:\n",
        "        for line in file:\n",
        "            parts = line.strip().split()\n",
        "            if len(parts) == 2 and parts[0].isdigit():\n",
        "                pyramid_lines.append(parts[1])\n",
        "\n",
        "    decoded_words = []\n",
        "    current_index = 0\n",
        "\n",
        "    # Iterate over each line in the pyramid\n",
        "    for i in range(1, len(pyramid_lines) + 1):\n",
        "        if current_index < len(pyramid_lines):\n",
        "            decoded_words.append(pyramid_lines[current_index])\n",
        "            current_index += i\n",
        "\n",
        "    decoded_message = ' '.join(decoded_words)\n",
        "    return decoded_message\n",
        "\n",
        "# Example usage\n",
        "decoded_message = decode('/coding_qual_input.txt')\n",
        "print(\"Decoded Message:\", decoded_message)\n"
      ],
      "metadata": {
        "id": "v5VQUS8xK_kj",
        "colab": {
          "base_uri": "https://localhost:8080/"
        },
        "outputId": "aaac2f6e-ddbb-4178-e0aa-449945a4ef98"
      },
      "execution_count": null,
      "outputs": [
        {
          "output_type": "stream",
          "name": "stdout",
          "text": [
            "Decoded Message: land sun huge noun play plain past open ocean down sat hold are quotient third remember hole prove field bit produce major instant ready\n"
          ]
        }
      ]
    },
    {
      "cell_type": "code",
      "source": [
        "def decode(message_file):\n",
        "    pyramid_lines = []\n",
        "\n",
        "    # Read the input file and extract pyramid lines\n",
        "    with open(message_file, 'r') as file:\n",
        "        for line in file:\n",
        "            parts = line.strip().split()\n",
        "            if len(parts) == 2 and parts[0].isdigit():\n",
        "                pyramid_lines.append(parts[0])\n",
        "\n",
        "    # Print the pyramid structure with numbers\n",
        "    print_pyramid(pyramid_lines)\n",
        "\n",
        "    # Retrieve words based on pyramid structure\n",
        "    decoded_words = []\n",
        "    current_index = 0\n",
        "\n",
        "    for i in range(1, len(pyramid_lines) + 1):\n",
        "        if current_index < len(pyramid_lines):\n",
        "            decoded_words.append(pyramid_lines[current_index])\n",
        "            current_index += i\n",
        "\n",
        "    # Combine the decoded words into a string\n",
        "    decoded_message = ' '.join(decoded_words)\n",
        "\n",
        "    return decoded_message\n",
        "\n",
        "def print_pyramid(pyramid_lines):\n",
        "    current_index = 0\n",
        "\n",
        "    for i in range(1, len(pyramid_lines) + 1):\n",
        "        if current_index < len(pyramid_lines):\n",
        "            print(' ' * (len(pyramid_lines) - i), end='')\n",
        "\n",
        "decoded_msg = decode('/coding_qual_input.txt')\n",
        "print(decoded_msg)"
      ],
      "metadata": {
        "colab": {
          "base_uri": "https://localhost:8080/"
        },
        "id": "HANico8Y5TBg",
        "outputId": "88111598-9f8e-4078-a952-892a6629527e"
      },
      "execution_count": null,
      "outputs": [
        {
          "output_type": "stream",
          "name": "stdout",
          "text": [
            "                                                                                                                                                                                                                                                                                                                                                                                                                                                                                                                                                                                                                                                                                                                                                                                                                                                                                                                                                                                                                                                                                                                                                                                                                                                                                                                                                                                                                                                                                                                                                                                                                                                                                                                                                                                                                                                                                                                                                                                                                                                                                                                                                                                                                                                                                                                                                                                                                                                                                                                                                                                                                                                                                                                                                                                                                                                                                                                                                                                                                                                                                                                                                                                                                                                                                                                                                                                                                                                                                                                                                                                                                                                                                                                                                                                                                                                                                                                                                                                                                                                                                                                                                                                                                                                                                                                                                                                                                                                                                                                                                                                                                                                                                                                                                                                                                                                                                                                                                                                                                                                                                                                                                                                                                                                                                                                                                                                                                                                                                                                                                                                                                                                                                                                                                                                                                                                                                                                                                                                                                                                                                                                                                                                                                                                                                                                                                                                                                                                                                                                                                                                                                                                                                                                                                                                                                                                                                                                                                                                                                                                                                                                                                                                                                                                                                                                                                                                                                                                                                                                                                                                                                                                                                                                                                                                                                                                                                                                                                                                                                                                                                                                                                                                                                                                                                                                                                                                                                                                                                                                                                                                                                                                                                                                                                                                                                                                                                                                                                                                                                                                                                                                                                                                                                                                                                                                                                                                                                                                                                                                                                                                                                                                                                                                                                                                                                                                                                                                                                                                                                                                                                                                                                                                                                                                                                                                                                                                                                                                                                                                                                                                                                                                                                                                                                                                                                                                                                                                                                                                                                                                                                                                                                                                                                                                                                                                                                                                                                                                                                                                                                                                                                                                                                                                                                                                                                                                                                                                                                                                                                                                                                                                                                                                                                                                                                                                                                                                                                                                                                                                                                                                                                                                                                                                                                                                                                                                                                                                                                                                                                                                                                                                                                                                                                                                                                                                                                                                                                                                                                                                                                                                                                                                                                                                                                                                                                                                                                                                                                                                                                                                                                                                                                                                                                                                                                                                                                                                                                                                                                                                                                                                                                                                                                                                                                                                                                                                                                                                                                                                                                                                                                                                                                                                                                                                                                                                                                                                                                                                                                                                                                                                                                                                                                                                                                                                                                                                                                                                                                                                                                                                                                                                                                                                                                                                                                                                                                                                                                                                                                                                                                                                                                                                                                                                                                                                                                                                                                                                                                                                                                                                                                                                                                                                                                                                                                                                                                                                                                                                                                                                                                                                                                                                                                                                                                                                                                                                                                                                                                                                                                                                                                                                                                                                                                                                                                                                                                                                                                                                                                                                                                                                                                                                                                                                                                                                                                                                                                                                                                                                                                                                                                                                                                                                                                                                                                                                                                                                                                                                                                                                                                                                                                                                                                                                                                                                                                                                                                                                                                                                                                                                                                                                                                                                                                                                                                                                                                                                                                                                                                                                                                                                                                                                                                                                                                                                                                                                                                                                                                                                                                                                                                                                                                                                                                                                                                                                                                                                                                                                                                                                                                                                                                                                                                                                                                                                                                                                                                                                                                                                                                                                                                                                                                                                                                                                                                                                                                                                                                                                                                                                                                                                                                                                                                                                                                                                                                                                                                                                                                                                                                                                                                                                                                                                                                                                                                                                                                                                                                                                                                                                                                                                                                                                                                                                                                                                                                                                                                                                                                                                                                                                                                                                                                                                                                                                                                                                                                                                                                                                                                                                                                                                                                                                                                                                                                                                                                                                                                                                                                                                                                                                                                                                                                                                                                                                                                                                                                                                                                                                                                                                                                                                                                                                                                                                                                                                                                                                                                                                                                                                                                                                                                                                                                                                                                                                                                                                                                                                                                                                                                                                                                                                                                                                                                                                                                                                                                                                                                                                                                                                                                                                                                                                                                                                                                                                                                                                                                                                                                                                                                                                                                                                                                                                                                                                                                                                                                                                                                                                                                                                                                                                                                                                                                                                                                                                                                                                                                                                                                                                                                                                                                                                                                                                                                                                                                                                                                                                                                                                                                                                                                                                                                                                                                                                                                                                                                                                                                                                                                                                                                                                                                                                                                                                                                                                                                                                                                                                                                                                                                                                                                                                                                                                                                                                                                                                                                                                                                                                                                                                                                                                                                                                                                                                                                                                                                                                                                                                                                                                                                                                                                                                                                                                                                                                                                                                                                                                                                                                                                                                                                                                                                                                                                                                                                                                                                                                                                                                                                                                                                                                                                                                                                                                                                                                                                                                                                                                                                                                                                                                                                                                                                                                                                                                                                                                                                                                                                                                                                                                                                                                                                                                                                                                                                                                                                                                                                                                                                                                                                                                                                                                                                                                                                                                                                                                                                                                                                                                                                                                                                                                                                                                                                                                                                                                                                                                                                                                                                                                                                                                                                                                                                                                                                                                                                                                                                                                                                                                                                                                                                                                                                                                                                                                                                                                                                                                                                                                                                                                                                                                                                                                                                                                                                                                                                                                                                                                                                                                                                                                                                                                                                                                                                                                                                                                                                                                                                                                                                                                                                                                                                                                                                                                                                                                                                                                                                                                                                                                                                                                                                                                                                                                                                                                                                                                                                                                                                                                                                                                                                                                                                                                                                                                                                                                                                                                                                                                                                                                                                                                                                                                                                                                                                                                                                                                                                                                                                                                                                                                                                                                                                                                                                                                                                                                                                                                                                                                                                                                                                                                                                                                                                                                                                                                                                                                                                                                                                                                                                                                                                                                                                                                                                                                                                                                                                                                                                                                                                                                                                                                                                                                                                                                                                                                                                                                                                                                                                                                                                                                                                                                                                                                                                                                                                                                                                                                                                                                                                                                                                                                                                                                                                                                                                                                                                                                                                                                                                                                                                                                                                                                                                                                                                                                                                                                                                                                                                                                                                                                                                                                                                                                                                                                                                                                                                                                                                                                                                                                                                                                                                                                                                                                                                                                                                                                                                                                                                                                                                                                                                                                                                                                                                                                                                                                                                                                                                                                                                                                                                                                                                                                                                                                                                                                                                                                                                                                                                                                                                                                                                                                                                                                                                                                                                                                                                                                                                                                                                                                                                                                                                                                                                                                                                                                                                                                                                                                                                                                                                                                                                                                                                                                                                                                                                                                                                                                                                                                                                                                                                                                                                                                                                                                                                                                                                                                                                                                                                                                                                                                                                                                                                                                                                                                                                                                                                                                                                                                                                                                                                                                                                                                                                                                                                                                                                                                                                                                  195 91 120 69 174 202 128 238 150 1 258 171 183 125 14 27 17 7 48 66 155 247 296 8\n"
          ]
        }
      ]
    }
  ]
}